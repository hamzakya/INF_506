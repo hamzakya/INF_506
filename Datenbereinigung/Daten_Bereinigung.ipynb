{
 "cells": [
  {
   "cell_type": "markdown",
   "id": "30a30b09",
   "metadata": {},
   "source": [
    "# Importing csv Data"
   ]
  },
  {
   "cell_type": "code",
   "execution_count": 1,
   "id": "6709a3d9",
   "metadata": {},
   "outputs": [],
   "source": [
    "import pandas as pd"
   ]
  },
  {
   "cell_type": "code",
   "execution_count": 2,
   "id": "58ffc964",
   "metadata": {},
   "outputs": [],
   "source": [
    "df = pd.read_csv('/Users/emresagaltici/Desktop/ford_data.csv')"
   ]
  },
  {
   "cell_type": "code",
   "execution_count": 3,
   "id": "127c613a",
   "metadata": {},
   "outputs": [
    {
     "data": {
      "text/html": [
       "<div>\n",
       "<style scoped>\n",
       "    .dataframe tbody tr th:only-of-type {\n",
       "        vertical-align: middle;\n",
       "    }\n",
       "\n",
       "    .dataframe tbody tr th {\n",
       "        vertical-align: top;\n",
       "    }\n",
       "\n",
       "    .dataframe thead th {\n",
       "        text-align: right;\n",
       "    }\n",
       "</style>\n",
       "<table border=\"1\" class=\"dataframe\">\n",
       "  <thead>\n",
       "    <tr style=\"text-align: right;\">\n",
       "      <th></th>\n",
       "      <th>Make</th>\n",
       "      <th>Model</th>\n",
       "      <th>Price</th>\n",
       "      <th>Year</th>\n",
       "      <th>Engine Size</th>\n",
       "      <th>Mileage</th>\n",
       "      <th>Fuel Type</th>\n",
       "      <th>Transmission</th>\n",
       "      <th>Color</th>\n",
       "      <th>Body Type</th>\n",
       "      <th>Wheel Drive</th>\n",
       "      <th>Doors</th>\n",
       "      <th>Seats</th>\n",
       "      <th>Engine Power</th>\n",
       "      <th>Top Speed</th>\n",
       "      <th>Acceleration</th>\n",
       "      <th>CO2 Rating</th>\n",
       "    </tr>\n",
       "  </thead>\n",
       "  <tbody>\n",
       "    <tr>\n",
       "      <th>0</th>\n",
       "      <td>ford</td>\n",
       "      <td>Galaxy</td>\n",
       "      <td>5999.0</td>\n",
       "      <td>2012</td>\n",
       "      <td>1997cc</td>\n",
       "      <td>98,542 miles</td>\n",
       "      <td>Diesel</td>\n",
       "      <td>Manual</td>\n",
       "      <td>BLACK</td>\n",
       "      <td>MPV</td>\n",
       "      <td>4X2</td>\n",
       "      <td>5.0</td>\n",
       "      <td>7.0</td>\n",
       "      <td>161 bhp</td>\n",
       "      <td>126 mph</td>\n",
       "      <td>9.8 seconds</td>\n",
       "      <td>149 g/km</td>\n",
       "    </tr>\n",
       "    <tr>\n",
       "      <th>1</th>\n",
       "      <td>ford</td>\n",
       "      <td>EcoSport</td>\n",
       "      <td>6190.0</td>\n",
       "      <td>2015</td>\n",
       "      <td>998cc</td>\n",
       "      <td>81,500 miles</td>\n",
       "      <td>Petrol</td>\n",
       "      <td>Manual</td>\n",
       "      <td>BLUE</td>\n",
       "      <td>Hatchback</td>\n",
       "      <td>4X2</td>\n",
       "      <td>5.0</td>\n",
       "      <td>5.0</td>\n",
       "      <td>123 bhp</td>\n",
       "      <td>112 mph</td>\n",
       "      <td>12.7 seconds</td>\n",
       "      <td>125 g/km</td>\n",
       "    </tr>\n",
       "    <tr>\n",
       "      <th>2</th>\n",
       "      <td>ford</td>\n",
       "      <td>S-MAX</td>\n",
       "      <td>8295.0</td>\n",
       "      <td>2014</td>\n",
       "      <td>1997cc</td>\n",
       "      <td>71,129 miles</td>\n",
       "      <td>Diesel</td>\n",
       "      <td>Automatic</td>\n",
       "      <td>BLUE</td>\n",
       "      <td>MPV</td>\n",
       "      <td>4X2</td>\n",
       "      <td>5.0</td>\n",
       "      <td>7.0</td>\n",
       "      <td>138 bhp</td>\n",
       "      <td>119 mph</td>\n",
       "      <td>10.9 seconds</td>\n",
       "      <td>149 g/km</td>\n",
       "    </tr>\n",
       "    <tr>\n",
       "      <th>3</th>\n",
       "      <td>ford</td>\n",
       "      <td>Fiesta</td>\n",
       "      <td>6000.0</td>\n",
       "      <td>2014</td>\n",
       "      <td>998cc</td>\n",
       "      <td>72,600 miles</td>\n",
       "      <td>Petrol</td>\n",
       "      <td>Manual</td>\n",
       "      <td>BLACK</td>\n",
       "      <td>Hatchback</td>\n",
       "      <td>4X2</td>\n",
       "      <td>3.0</td>\n",
       "      <td>5.0</td>\n",
       "      <td>138 bhp</td>\n",
       "      <td>125 mph</td>\n",
       "      <td>9.0 seconds</td>\n",
       "      <td>104 g/km</td>\n",
       "    </tr>\n",
       "    <tr>\n",
       "      <th>4</th>\n",
       "      <td>ford</td>\n",
       "      <td>Transit Connect</td>\n",
       "      <td>16989.0</td>\n",
       "      <td>2017</td>\n",
       "      <td>1499cc</td>\n",
       "      <td>51,000 miles</td>\n",
       "      <td>Diesel</td>\n",
       "      <td>Automatic</td>\n",
       "      <td>GREY</td>\n",
       "      <td>Other</td>\n",
       "      <td>4X2</td>\n",
       "      <td>NaN</td>\n",
       "      <td>NaN</td>\n",
       "      <td>118 bhp</td>\n",
       "      <td>NaN</td>\n",
       "      <td>NaN</td>\n",
       "      <td>129 g/km</td>\n",
       "    </tr>\n",
       "  </tbody>\n",
       "</table>\n",
       "</div>"
      ],
      "text/plain": [
       "   Make            Model    Price  Year Engine Size       Mileage Fuel Type  \\\n",
       "0  ford           Galaxy   5999.0  2012      1997cc  98,542 miles    Diesel   \n",
       "1  ford         EcoSport   6190.0  2015       998cc  81,500 miles    Petrol   \n",
       "2  ford            S-MAX   8295.0  2014      1997cc  71,129 miles    Diesel   \n",
       "3  ford           Fiesta   6000.0  2014       998cc  72,600 miles    Petrol   \n",
       "4  ford  Transit Connect  16989.0  2017      1499cc  51,000 miles    Diesel   \n",
       "\n",
       "  Transmission  Color  Body Type Wheel Drive  Doors  Seats Engine Power  \\\n",
       "0       Manual  BLACK        MPV         4X2    5.0    7.0      161 bhp   \n",
       "1       Manual   BLUE  Hatchback         4X2    5.0    5.0      123 bhp   \n",
       "2    Automatic   BLUE        MPV         4X2    5.0    7.0      138 bhp   \n",
       "3       Manual  BLACK  Hatchback         4X2    3.0    5.0      138 bhp   \n",
       "4    Automatic   GREY      Other         4X2    NaN    NaN      118 bhp   \n",
       "\n",
       "  Top Speed  Acceleration CO2 Rating  \n",
       "0   126 mph   9.8 seconds   149 g/km  \n",
       "1   112 mph  12.7 seconds   125 g/km  \n",
       "2   119 mph  10.9 seconds   149 g/km  \n",
       "3   125 mph   9.0 seconds   104 g/km  \n",
       "4       NaN           NaN   129 g/km  "
      ]
     },
     "execution_count": 3,
     "metadata": {},
     "output_type": "execute_result"
    }
   ],
   "source": [
    "df.head()"
   ]
  },
  {
   "cell_type": "markdown",
   "id": "f37bd850",
   "metadata": {},
   "source": [
    "# Falsche Daten Löschen(die mpg daten enthalten)"
   ]
  },
  {
   "cell_type": "code",
   "execution_count": 4,
   "id": "f496ab28",
   "metadata": {},
   "outputs": [],
   "source": [
    "df = df[~df['Body Type'].str.contains('mpg', na=False)]"
   ]
  },
  {
   "cell_type": "markdown",
   "id": "0d2cf793",
   "metadata": {},
   "source": [
    "# Daten in das richtige Format umwandeln"
   ]
  },
  {
   "cell_type": "code",
   "execution_count": 6,
   "id": "21b43f87",
   "metadata": {},
   "outputs": [
    {
     "name": "stdout",
     "output_type": "stream",
     "text": [
      "<class 'pandas.core.frame.DataFrame'>\n",
      "Int64Index: 6244 entries, 0 to 6313\n",
      "Data columns (total 17 columns):\n",
      " #   Column        Non-Null Count  Dtype  \n",
      "---  ------        --------------  -----  \n",
      " 0   Make          6244 non-null   object \n",
      " 1   Model         6244 non-null   object \n",
      " 2   Price         6244 non-null   float64\n",
      " 3   Year          6244 non-null   object \n",
      " 4   Engine Size   6244 non-null   object \n",
      " 5   Mileage       6244 non-null   object \n",
      " 6   Fuel Type     6244 non-null   object \n",
      " 7   Transmission  6082 non-null   object \n",
      " 8   Color         6244 non-null   object \n",
      " 9   Body Type     6244 non-null   object \n",
      " 10  Wheel Drive   6074 non-null   object \n",
      " 11  Doors         4955 non-null   float64\n",
      " 12  Seats         4857 non-null   float64\n",
      " 13  Engine Power  6079 non-null   object \n",
      " 14  Top Speed     5708 non-null   object \n",
      " 15  Acceleration  3245 non-null   object \n",
      " 16  CO2 Rating    4941 non-null   object \n",
      "dtypes: float64(3), object(14)\n",
      "memory usage: 878.1+ KB\n"
     ]
    }
   ],
   "source": [
    "df.info()"
   ]
  },
  {
   "cell_type": "code",
   "execution_count": null,
   "id": "41a0ce8b",
   "metadata": {},
   "outputs": [],
   "source": []
  },
  {
   "cell_type": "code",
   "execution_count": 7,
   "id": "2a5ba3d9",
   "metadata": {},
   "outputs": [],
   "source": [
    "df['Engine Size'] = df['Engine Size'].str.replace('cc', '')\n",
    "df['Engine Size'] = df['Engine Size'].str.replace('L', '')\n",
    "df['Engine Size'] = df['Engine Size'].str.replace('l', '')\n",
    "df['Engine Size'] = df['Engine Size'].astype(float)"
   ]
  },
  {
   "cell_type": "code",
   "execution_count": 8,
   "id": "f43ad8df",
   "metadata": {},
   "outputs": [],
   "source": [
    "liter_to_cc = df[df['Engine Size'] < 50]\n",
    "for i in liter_to_cc.index:\n",
    "    df.loc[i, 'Engine Size'] *= 1000"
   ]
  },
  {
   "cell_type": "code",
   "execution_count": 9,
   "id": "068fa721",
   "metadata": {},
   "outputs": [],
   "source": [
    "df['Mileage'] = df['Mileage'].str.replace('miles','')\n",
    "df['Mileage'] = df['Mileage'].str.replace(',','')\n",
    "df['Mileage'] = df['Mileage'].astype(float)"
   ]
  },
  {
   "cell_type": "code",
   "execution_count": 10,
   "id": "9ad7ab17",
   "metadata": {},
   "outputs": [],
   "source": [
    "df['Engine Power'] = df['Engine Power'].str.replace('bhp','')\n",
    "df['Engine Power'] = df['Engine Power'].astype(float)"
   ]
  },
  {
   "cell_type": "code",
   "execution_count": 11,
   "id": "ce6faa3e",
   "metadata": {},
   "outputs": [],
   "source": [
    "df['Top Speed'] = df['Top Speed'].str.replace('mph','')\n",
    "df['Top Speed'] = df['Top Speed'].astype(float)"
   ]
  },
  {
   "cell_type": "code",
   "execution_count": 12,
   "id": "abf4fd8b",
   "metadata": {},
   "outputs": [],
   "source": [
    "df['Acceleration'] = df['Acceleration'].str.replace('seconds','')\n",
    "df['Acceleration'] = df['Acceleration'].astype(float)"
   ]
  },
  {
   "cell_type": "code",
   "execution_count": 13,
   "id": "d150fde3",
   "metadata": {},
   "outputs": [],
   "source": [
    "df['CO2 Rating'] = df['CO2 Rating'].str.replace('g/km','')\n",
    "df['CO2 Rating'] = df['CO2 Rating'].astype(float)"
   ]
  },
  {
   "cell_type": "markdown",
   "id": "c200ba13",
   "metadata": {},
   "source": [
    "# Fehlende Daten vervollständigen"
   ]
  },
  {
   "cell_type": "code",
   "execution_count": 14,
   "id": "4091ca30",
   "metadata": {},
   "outputs": [],
   "source": [
    "most_Transmission = df['Transmission'].mode()[0]\n",
    "df['Transmission'].fillna(most_Transmission, inplace=True)"
   ]
  },
  {
   "cell_type": "code",
   "execution_count": 15,
   "id": "a5ff43de",
   "metadata": {},
   "outputs": [],
   "source": [
    "most_Wheel = df['Wheel Drive'].mode()[0]\n",
    "df['Wheel Drive'].fillna(most_Wheel, inplace=True)"
   ]
  },
  {
   "cell_type": "code",
   "execution_count": 16,
   "id": "26e9ccb4",
   "metadata": {},
   "outputs": [],
   "source": [
    "most_Doors = df['Doors'].mode()[0]\n",
    "df['Doors'].fillna(most_Doors, inplace=True)"
   ]
  },
  {
   "cell_type": "code",
   "execution_count": 17,
   "id": "a33c1441",
   "metadata": {},
   "outputs": [],
   "source": [
    "most_Seats = df['Seats'].mode()[0]\n",
    "df['Seats'].fillna(most_Seats, inplace=True)"
   ]
  },
  {
   "cell_type": "code",
   "execution_count": 18,
   "id": "4fa52124",
   "metadata": {},
   "outputs": [],
   "source": [
    "average = round(df['Engine Power'].mean())\n",
    "df['Engine Power'].fillna(average, inplace=True)\n",
    "df['Engine Power'].replace(0, average, inplace=True)"
   ]
  },
  {
   "cell_type": "code",
   "execution_count": 19,
   "id": "5f98dc7a",
   "metadata": {},
   "outputs": [],
   "source": [
    "average = round(df['Top Speed'].mean())\n",
    "df['Top Speed'].fillna(average, inplace=True)\n",
    "df['Top Speed'].replace(0, average, inplace=True)"
   ]
  },
  {
   "cell_type": "code",
   "execution_count": 20,
   "id": "f91b9519",
   "metadata": {},
   "outputs": [],
   "source": [
    "average = round(df['Acceleration'].mean())\n",
    "df['Acceleration'].fillna(average, inplace=True)\n",
    "df['Acceleration'].replace(0, average, inplace=True)"
   ]
  },
  {
   "cell_type": "code",
   "execution_count": 21,
   "id": "565db153",
   "metadata": {},
   "outputs": [],
   "source": [
    "average = round(df['CO2 Rating'].mean())\n",
    "df['CO2 Rating'].fillna(average, inplace=True)\n",
    "df['CO2 Rating'].replace(0, average, inplace=True)"
   ]
  },
  {
   "cell_type": "code",
   "execution_count": 22,
   "id": "ff5813f5",
   "metadata": {},
   "outputs": [],
   "source": [
    "average = round(df['Engine Size'].mean())\n",
    "df['Engine Size'].replace(0, average, inplace=True)"
   ]
  },
  {
   "cell_type": "code",
   "execution_count": 23,
   "id": "b488582c",
   "metadata": {},
   "outputs": [
    {
     "name": "stdout",
     "output_type": "stream",
     "text": [
      "0\n"
     ]
    }
   ],
   "source": [
    "null_zahlen = df['Transmission'].isnull().sum()\n",
    "print(null_zahlen) "
   ]
  },
  {
   "cell_type": "markdown",
   "id": "adfa325b",
   "metadata": {},
   "source": [
    "# Ausreißer behandeln"
   ]
  },
  {
   "cell_type": "code",
   "execution_count": 25,
   "id": "39350407",
   "metadata": {},
   "outputs": [],
   "source": [
    "import numpy as np"
   ]
  },
  {
   "cell_type": "code",
   "execution_count": 26,
   "id": "2ec84287",
   "metadata": {},
   "outputs": [
    {
     "name": "stdout",
     "output_type": "stream",
     "text": [
      "<class 'pandas.core.frame.DataFrame'>\n",
      "Int64Index: 6244 entries, 0 to 6313\n",
      "Data columns (total 17 columns):\n",
      " #   Column        Non-Null Count  Dtype  \n",
      "---  ------        --------------  -----  \n",
      " 0   Make          6244 non-null   object \n",
      " 1   Model         6244 non-null   object \n",
      " 2   Price         6244 non-null   float64\n",
      " 3   Year          6244 non-null   object \n",
      " 4   Engine Size   6244 non-null   float64\n",
      " 5   Mileage       6244 non-null   float64\n",
      " 6   Fuel Type     6244 non-null   object \n",
      " 7   Transmission  6244 non-null   object \n",
      " 8   Color         6244 non-null   object \n",
      " 9   Body Type     6244 non-null   object \n",
      " 10  Wheel Drive   6244 non-null   object \n",
      " 11  Doors         6244 non-null   float64\n",
      " 12  Seats         6244 non-null   float64\n",
      " 13  Engine Power  6244 non-null   float64\n",
      " 14  Top Speed     6244 non-null   float64\n",
      " 15  Acceleration  6244 non-null   float64\n",
      " 16  CO2 Rating    6244 non-null   float64\n",
      "dtypes: float64(9), object(8)\n",
      "memory usage: 1007.1+ KB\n"
     ]
    }
   ],
   "source": [
    "df.info()"
   ]
  },
  {
   "cell_type": "code",
   "execution_count": 27,
   "id": "85bbe877",
   "metadata": {},
   "outputs": [],
   "source": [
    "quartile_1 = df['Price'].quantile(0.25)\n",
    "quartile_3 = df['Price'].quantile(0.75)\n",
    "inter_quartile_range = quartile_3 - quartile_1\n",
    "threshold = 1.5\n",
    "outliers = ((df['Price'] < (quartile_1 - threshold * inter_quartile_range)) | (df['Price'] > (quartile_3 + threshold * inter_quartile_range)))"
   ]
  },
  {
   "cell_type": "code",
   "execution_count": 28,
   "id": "293e16e6",
   "metadata": {},
   "outputs": [],
   "source": [
    "handle_by = 'dropping'\n",
    "if handle_by == 'dropping':\n",
    "    df = df[~outliers]\n",
    "elif handle_by == 'average':\n",
    "        df['Price'][outliers] = df['Price'][~outliers].mean()\n",
    "elif handle_by == 'log_transform':\n",
    "        df['Price'] = np.log(df['Price'])"
   ]
  },
  {
   "cell_type": "code",
   "execution_count": 29,
   "id": "8f1b60c0",
   "metadata": {},
   "outputs": [
    {
     "name": "stdout",
     "output_type": "stream",
     "text": [
      "<class 'pandas.core.frame.DataFrame'>\n",
      "Int64Index: 5970 entries, 0 to 6313\n",
      "Data columns (total 17 columns):\n",
      " #   Column        Non-Null Count  Dtype  \n",
      "---  ------        --------------  -----  \n",
      " 0   Make          5970 non-null   object \n",
      " 1   Model         5970 non-null   object \n",
      " 2   Price         5970 non-null   float64\n",
      " 3   Year          5970 non-null   object \n",
      " 4   Engine Size   5970 non-null   float64\n",
      " 5   Mileage       5970 non-null   float64\n",
      " 6   Fuel Type     5970 non-null   object \n",
      " 7   Transmission  5970 non-null   object \n",
      " 8   Color         5970 non-null   object \n",
      " 9   Body Type     5970 non-null   object \n",
      " 10  Wheel Drive   5970 non-null   object \n",
      " 11  Doors         5970 non-null   float64\n",
      " 12  Seats         5970 non-null   float64\n",
      " 13  Engine Power  5970 non-null   float64\n",
      " 14  Top Speed     5970 non-null   float64\n",
      " 15  Acceleration  5970 non-null   float64\n",
      " 16  CO2 Rating    5970 non-null   float64\n",
      "dtypes: float64(9), object(8)\n",
      "memory usage: 839.5+ KB\n"
     ]
    }
   ],
   "source": [
    "df.info()"
   ]
  },
  {
   "cell_type": "code",
   "execution_count": null,
   "id": "4d105503",
   "metadata": {},
   "outputs": [],
   "source": []
  },
  {
   "cell_type": "markdown",
   "id": "805fcfba",
   "metadata": {},
   "source": [
    "# Identifizierung und Löschung von Duplikaten"
   ]
  },
  {
   "cell_type": "code",
   "execution_count": 30,
   "id": "e10b1f86",
   "metadata": {},
   "outputs": [
    {
     "name": "stdout",
     "output_type": "stream",
     "text": [
      "      Make                                              Model    Price  Year  \\\n",
      "939   ford                                             Fiesta  23375.0  2023   \n",
      "1338  ford  Transit Custom 2.0 TDCI 310 L2 H1 LWB LOW ROOF...  21499.0  2019   \n",
      "2632  ford                                             Ranger  19094.0  2020   \n",
      "2633  ford                                     Transit Custom  14994.0  2018   \n",
      "3622  ford                                              S-MAX  10400.0  2014   \n",
      "5849  ford                                              Focus  11280.0  2018   \n",
      "5948  ford                                            Transit  23999.0  2020   \n",
      "5949  ford                                            Transit  19999.0  2021   \n",
      "5950  ford                                            Transit  25999.0  2021   \n",
      "5951  ford                                            Transit  18499.0  2020   \n",
      "6226  ford                                            Transit  19499.0  2020   \n",
      "6227  ford                                            Transit  19250.0  2019   \n",
      "6228  ford                                            Transit  18250.0  2019   \n",
      "\n",
      "      Engine Size  Mileage Fuel Type Transmission       Color  Body Type  \\\n",
      "939        1000.0     20.0    Petrol       Manual    Magnetic  Hatchback   \n",
      "1338       2000.0  72566.0    Diesel       Manual       Black        Van   \n",
      "2632       1997.0  88607.0    Diesel    Automatic        Grey        Van   \n",
      "2633       1997.0  84710.0    Diesel       Manual        Blue        Van   \n",
      "3622       2200.0  97000.0    Diesel    Automatic  MISTY GREY        MPV   \n",
      "5849       1000.0  61660.0    Petrol       Manual       Black     Estate   \n",
      "5948       1997.0  43000.0    Diesel       Manual       White        Van   \n",
      "5949       1997.0  59000.0    Diesel       Manual       White        Van   \n",
      "5950       1997.0  26000.0    Diesel       Manual       White        Van   \n",
      "5951       1997.0  71000.0    Diesel       Manual       White        Van   \n",
      "6226       1997.0  55000.0    Diesel       Manual       White        Van   \n",
      "6227       1997.0  48000.0    Diesel       Manual       White        Van   \n",
      "6228       1997.0  58000.0    Diesel       Manual       White        Van   \n",
      "\n",
      "     Wheel Drive  Doors  Seats  Engine Power  Top Speed  Acceleration  \\\n",
      "939          4X2    5.0    5.0         132.0      116.0          11.0   \n",
      "1338         4X2    5.0    5.0         168.0       99.0          11.0   \n",
      "2632         4X4    5.0    5.0         210.0      111.0          11.0   \n",
      "2633         4X2    5.0    5.0         128.0       99.0          11.0   \n",
      "3622         4X2    5.0    7.0         198.0      132.0           8.9   \n",
      "5849         4X2    5.0    5.0         123.0      123.0          10.3   \n",
      "5948         4X2    5.0    5.0         128.0       99.0          11.0   \n",
      "5949         4X2    5.0    5.0         128.0       99.0          11.0   \n",
      "5950         4X2    5.0    5.0         128.0       99.0          11.0   \n",
      "5951         4X2    5.0    5.0         128.0       99.0          11.0   \n",
      "6226         4X2    5.0    5.0         128.0       99.0          11.0   \n",
      "6227         4X2    5.0    5.0         128.0       99.0          11.0   \n",
      "6228         4X2    5.0    5.0         128.0       99.0          11.0   \n",
      "\n",
      "      CO2 Rating  \n",
      "939        127.0  \n",
      "1338       127.0  \n",
      "2632       127.0  \n",
      "2633       127.0  \n",
      "3622       189.0  \n",
      "5849       108.0  \n",
      "5948       127.0  \n",
      "5949       127.0  \n",
      "5950       127.0  \n",
      "5951       127.0  \n",
      "6226       127.0  \n",
      "6227       127.0  \n",
      "6228       127.0  \n"
     ]
    }
   ],
   "source": [
    "duplicated_rows = df[df.duplicated()]\n",
    "print(duplicated_rows)"
   ]
  },
  {
   "cell_type": "code",
   "execution_count": 31,
   "id": "9d095cfc",
   "metadata": {},
   "outputs": [],
   "source": [
    "df = df.drop_duplicates()"
   ]
  },
  {
   "cell_type": "code",
   "execution_count": 32,
   "id": "1ef3ef6d",
   "metadata": {},
   "outputs": [
    {
     "name": "stdout",
     "output_type": "stream",
     "text": [
      "<class 'pandas.core.frame.DataFrame'>\n",
      "Int64Index: 5957 entries, 0 to 6313\n",
      "Data columns (total 17 columns):\n",
      " #   Column        Non-Null Count  Dtype  \n",
      "---  ------        --------------  -----  \n",
      " 0   Make          5957 non-null   object \n",
      " 1   Model         5957 non-null   object \n",
      " 2   Price         5957 non-null   float64\n",
      " 3   Year          5957 non-null   object \n",
      " 4   Engine Size   5957 non-null   float64\n",
      " 5   Mileage       5957 non-null   float64\n",
      " 6   Fuel Type     5957 non-null   object \n",
      " 7   Transmission  5957 non-null   object \n",
      " 8   Color         5957 non-null   object \n",
      " 9   Body Type     5957 non-null   object \n",
      " 10  Wheel Drive   5957 non-null   object \n",
      " 11  Doors         5957 non-null   float64\n",
      " 12  Seats         5957 non-null   float64\n",
      " 13  Engine Power  5957 non-null   float64\n",
      " 14  Top Speed     5957 non-null   float64\n",
      " 15  Acceleration  5957 non-null   float64\n",
      " 16  CO2 Rating    5957 non-null   float64\n",
      "dtypes: float64(9), object(8)\n",
      "memory usage: 837.7+ KB\n"
     ]
    }
   ],
   "source": [
    "df.info()"
   ]
  },
  {
   "cell_type": "markdown",
   "id": "92cf17d0",
   "metadata": {},
   "source": [
    "# Daten speichern"
   ]
  },
  {
   "cell_type": "code",
   "execution_count": 33,
   "id": "950a9ccb",
   "metadata": {},
   "outputs": [
    {
     "name": "stdout",
     "output_type": "stream",
     "text": [
      "Die Daten wurden in einer csv-Datei gespeichert.\n"
     ]
    }
   ],
   "source": [
    "df.to_csv('/Users/emresagaltici/Desktop/ford_data.csv', index=False)\n",
    "\n",
    "print(\"Die Daten wurden in einer csv-Datei gespeichert.\")"
   ]
  },
  {
   "cell_type": "code",
   "execution_count": null,
   "id": "059d1151",
   "metadata": {},
   "outputs": [],
   "source": []
  }
 ],
 "metadata": {
  "kernelspec": {
   "display_name": "Python 3 (ipykernel)",
   "language": "python",
   "name": "python3"
  },
  "language_info": {
   "codemirror_mode": {
    "name": "ipython",
    "version": 3
   },
   "file_extension": ".py",
   "mimetype": "text/x-python",
   "name": "python",
   "nbconvert_exporter": "python",
   "pygments_lexer": "ipython3",
   "version": "3.9.13"
  }
 },
 "nbformat": 4,
 "nbformat_minor": 5
}
