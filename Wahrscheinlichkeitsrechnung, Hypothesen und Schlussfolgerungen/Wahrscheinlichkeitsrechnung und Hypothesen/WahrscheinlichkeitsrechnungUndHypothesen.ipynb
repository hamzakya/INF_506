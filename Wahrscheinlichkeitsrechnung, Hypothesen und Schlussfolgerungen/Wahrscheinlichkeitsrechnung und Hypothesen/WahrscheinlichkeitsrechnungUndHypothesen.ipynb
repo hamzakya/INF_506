{
 "cells": [
  {
   "cell_type": "code",
   "execution_count": 2,
   "id": "b0962542",
   "metadata": {},
   "outputs": [],
   "source": [
    "#Importing section\n",
    "import pandas as pd\n",
    "import scipy.stats as stats"
   ]
  },
  {
   "cell_type": "code",
   "execution_count": 3,
   "id": "eeca173c",
   "metadata": {},
   "outputs": [],
   "source": [
    "#Specifying the path for the combined data table\n",
    "data_path = \"../combined_data.csv\"\n",
    "\n",
    "#Associating combined data with dataframe \"data_frame\"\n",
    "data_frame = pd.read_csv(data_path)"
   ]
  },
  {
   "cell_type": "markdown",
   "id": "aedf3f0e",
   "metadata": {},
   "source": [
    "# Ereignis 1"
   ]
  },
  {
   "cell_type": "markdown",
   "id": "52f7c299",
   "metadata": {},
   "source": [
    "### The probability that a selected vehicle from the datas is a Peugeot 207"
   ]
  },
  {
   "cell_type": "code",
   "execution_count": 26,
   "id": "137e3a8d",
   "metadata": {},
   "outputs": [
    {
     "name": "stdout",
     "output_type": "stream",
     "text": [
      "Sample size: 31369\n"
     ]
    }
   ],
   "source": [
    "#Saving sample space size with variable \"space_size\"\n",
    "space_size = len(data_frame)\n",
    "print(f\"Sample size: {space_size}\")"
   ]
  },
  {
   "cell_type": "code",
   "execution_count": 27,
   "id": "741b9391",
   "metadata": {},
   "outputs": [
    {
     "name": "stdout",
     "output_type": "stream",
     "text": [
      "Number of samples where the desired conditions exists: 29\n"
     ]
    }
   ],
   "source": [
    "#The number of samples in the dataframe where the desired condition exists\n",
    "desired_condition = len(data_frame[(data_frame[\"Make\"] == \"peugeot\") & (data_frame[\"Model\"] == \"207\")])\n",
    "print(f\"Number of samples where the desired conditions exists: {desired_condition}\")"
   ]
  },
  {
   "cell_type": "code",
   "execution_count": 28,
   "id": "0a635180",
   "metadata": {},
   "outputs": [
    {
     "name": "stdout",
     "output_type": "stream",
     "text": [
      "The probability that a selected vehicle from the dataframe is a Peugeot 207 is: %0.09\n"
     ]
    }
   ],
   "source": [
    "#Calculating the probability of Ereignis 1\n",
    "probability_of_ereignis1 = desired_condition/space_size\n",
    "print(f\"The probability that a selected vehicle from the dataframe is a Peugeot 207 is: %{round(probability_of_ereignis1*100, 2)}\")"
   ]
  },
  {
   "cell_type": "markdown",
   "id": "a105bee3",
   "metadata": {},
   "source": [
    "# Ereignis 2"
   ]
  },
  {
   "cell_type": "markdown",
   "id": "7d5e2ff9",
   "metadata": {},
   "source": [
    "### The probability that the engine power value of a selected vehicle is over 90.0 and the CO2 rating value is below 165.0"
   ]
  },
  {
   "cell_type": "code",
   "execution_count": 23,
   "id": "b20c6ecf",
   "metadata": {},
   "outputs": [
    {
     "name": "stdout",
     "output_type": "stream",
     "text": [
      "Sample size: 31369\n"
     ]
    }
   ],
   "source": [
    "#Since the sample space of the two events is the same, we can use the sample space size we used in Eregnis 1\n",
    "print(f\"Sample size: {space_size}\")"
   ]
  },
  {
   "cell_type": "code",
   "execution_count": 24,
   "id": "141fba37",
   "metadata": {},
   "outputs": [
    {
     "name": "stdout",
     "output_type": "stream",
     "text": [
      "Number of samples where the desired conditions exists: 24659\n"
     ]
    }
   ],
   "source": [
    "#The number of samples in dataframe where the desired conditions exists\n",
    "desired_condition2 = len(data_frame[(data_frame[\"Engine Power\"] > 90.0) & (data_frame[\"CO2 Rating\"] < 165.0)])\n",
    "print(f\"Number of samples where the desired conditions exists: {desired_condition2}\")"
   ]
  },
  {
   "cell_type": "code",
   "execution_count": 25,
   "id": "7f353131",
   "metadata": {},
   "outputs": [
    {
     "name": "stdout",
     "output_type": "stream",
     "text": [
      "The probability that the engine power value of a selected vehicle is over 90.0 and the CO2 rating value is below 165.0 is: %78.61\n"
     ]
    }
   ],
   "source": [
    "probability_of_ereignis2 = desired_condition2/space_size\n",
    "print(f\"The probability that the engine power value of a selected vehicle is over 90.0 and the CO2 rating value is below 165.0 is: %{round(probability_of_ereignis2*100, 2)}\")"
   ]
  },
  {
   "cell_type": "markdown",
   "id": "c64eb8cd",
   "metadata": {},
   "source": [
    "## Bayes Theorem \n",
    "### It is a theorem that helps us calculate the probability of an event occurring when another event occurs.\n",
    "### P(A|B) => The probability of event A occurring when event B occurs\n",
    "### p(A|B) = P(A∩B)/P(B)"
   ]
  },
  {
   "cell_type": "markdown",
   "id": "ea267a9b",
   "metadata": {},
   "source": [
    "# Probability of Ereignis 1 occurring under the condition of Ereignis 2 occurring  \n",
    "## P(Ereignis1 | Ereignis 2) = P(Ereignis 1 ∩ Ereignis 2) / P(Ereignis 2)"
   ]
  },
  {
   "cell_type": "markdown",
   "id": "e37eccce",
   "metadata": {},
   "source": [
    "### The probability of selecting a Peugeot 207 from the datas that meet the desired conditions of Ereignis 2 (Engine Power > 90.0 and CO2 Rating < 165.0) "
   ]
  },
  {
   "cell_type": "code",
   "execution_count": 29,
   "id": "3885144f",
   "metadata": {},
   "outputs": [],
   "source": [
    "#Creating a dataframe from the datas that meet the desired conditions of Eregnis 2\n",
    "data_ereignis2 = data_frame[(data_frame[\"Engine Power\"] > 90.0) & (data_frame[\"CO2 Rating\"] < 165.0)]"
   ]
  },
  {
   "cell_type": "code",
   "execution_count": 30,
   "id": "cfbebea1",
   "metadata": {},
   "outputs": [
    {
     "name": "stdout",
     "output_type": "stream",
     "text": [
      "Number of rows where the conditions of Ereignis 2 exist: 24659\n"
     ]
    }
   ],
   "source": [
    "#Size of the space\n",
    "size_of_de2 = len(data_ereignis2)\n",
    "print(f\"Number of rows where the conditions of Ereignis 2 exist: {size_of_de2}\")"
   ]
  },
  {
   "cell_type": "code",
   "execution_count": 31,
   "id": "c1f68865",
   "metadata": {},
   "outputs": [
    {
     "name": "stdout",
     "output_type": "stream",
     "text": [
      "The number of rows of 'data_ereignis2' dataframe where the desired conditions of Ereignis 1 exist: 13\n"
     ]
    }
   ],
   "source": [
    "#The number of samples in dataframe \"data_ereignis2\" where the desired conditions of Ereignis 1 exists\n",
    "desired_condition3 = len(data_ereignis2[(data_ereignis2[\"Make\"] == \"peugeot\") & (data_ereignis2[\"Model\"] == \"207\")])\n",
    "print(f\"The number of rows of 'data_ereignis2' dataframe where the desired conditions of Ereignis 1 exist: {desired_condition3}\")"
   ]
  },
  {
   "cell_type": "code",
   "execution_count": 32,
   "id": "7a099737",
   "metadata": {},
   "outputs": [
    {
     "name": "stdout",
     "output_type": "stream",
     "text": [
      "The probability of selecting a Peugeot 207 from the datas that meet the desired conditions of Ereignis 2 (Engine Power > 90.0 and CO2 Rating < 165.0) is: %0.05\n"
     ]
    }
   ],
   "source": [
    "#Calculating the probability\n",
    "prob_e1_under_e2 = desired_condition3 / (probability_of_ereignis2*space_size)\n",
    "print(f\"The probability of selecting a Peugeot 207 from the datas that meet the desired conditions of Ereignis 2 (Engine Power > 90.0 and CO2 Rating < 165.0) is: %{round(prob_e1_under_e2*100, 2)}\")"
   ]
  },
  {
   "cell_type": "markdown",
   "id": "4d11fa33",
   "metadata": {},
   "source": [
    "# Probability of Ereignis 2 occurring under the condition of Ereignis 1 occurring\n",
    "## P(Ereignis 2 | Ereignis 1) = P(Ereignis 1 ∩ Ereignis 2) / P(Ereignis 1)"
   ]
  },
  {
   "cell_type": "markdown",
   "id": "d42fedd6",
   "metadata": {},
   "source": [
    "### The probability of selecting an example that it's engine power is bigger than 90.0 and it's CO2 rate is lower than 165.0 from all Peugeot 207 data examples"
   ]
  },
  {
   "cell_type": "code",
   "execution_count": 33,
   "id": "96012d94",
   "metadata": {},
   "outputs": [],
   "source": [
    "#Creating a dataframe from the datas that meet the desired conditions of Eregnis 2\n",
    "data_ereignis1 = data_frame[(data_frame[\"Make\"] == \"peugeot\") & (data_frame[\"Model\"] == \"207\")]"
   ]
  },
  {
   "cell_type": "code",
   "execution_count": 34,
   "id": "ac5c03de",
   "metadata": {},
   "outputs": [
    {
     "name": "stdout",
     "output_type": "stream",
     "text": [
      "Number of rows where the conditions of Ereignis 1 exist: 29\n"
     ]
    }
   ],
   "source": [
    "#Size of the space\n",
    "size_of_de1 = len(data_ereignis1)\n",
    "print(f\"Number of rows where the conditions of Ereignis 1 exist: {size_of_de1}\")"
   ]
  },
  {
   "cell_type": "code",
   "execution_count": 35,
   "id": "ba7d76e7",
   "metadata": {},
   "outputs": [
    {
     "name": "stdout",
     "output_type": "stream",
     "text": [
      "The number of rows of 'data_ereignis1' dataframe where the desired conditions of Ereignis 2 exist: 13\n"
     ]
    }
   ],
   "source": [
    "#The number of samples in dataframe \"data_ereignis1\" where the desired conditions of Ereignis 2 exists\n",
    "desired_condition4 = len(data_ereignis1[(data_ereignis1[\"Engine Power\"] > 90.0) & (data_ereignis1[\"CO2 Rating\"] < 165.0)])\n",
    "print(f\"The number of rows of 'data_ereignis1' dataframe where the desired conditions of Ereignis 2 exist: {desired_condition4}\")"
   ]
  },
  {
   "cell_type": "code",
   "execution_count": 36,
   "id": "fc240e9c",
   "metadata": {},
   "outputs": [
    {
     "name": "stdout",
     "output_type": "stream",
     "text": [
      "The probability of selecting an example that it's engine power is bigger than 90.0 and it's CO2 rate is lower than 165.0 from all Peugeot 207 data examples is: %44.83\n"
     ]
    }
   ],
   "source": [
    "prob_e2_under_e1 = desired_condition4 / (probability_of_ereignis1*space_size)\n",
    "print(f\"The probability of selecting an example that it's engine power is bigger than 90.0 and it's CO2 rate is lower than 165.0 from all Peugeot 207 data examples is: %{round(prob_e2_under_e1*100, 2)}\")"
   ]
  },
  {
   "cell_type": "markdown",
   "id": "4e54daaa",
   "metadata": {},
   "source": [
    "# Hypothesen"
   ]
  },
  {
   "cell_type": "markdown",
   "id": "ea9ce972",
   "metadata": {},
   "source": [
    "## Terms"
   ]
  },
  {
   "cell_type": "markdown",
   "id": "63220c51",
   "metadata": {},
   "source": [
    "### Nullhypothesis\n",
    "#### It is a general proposition that assumes that there is nothing beyond what is expected, for example, that there is no relationship between groups or variables, or that there is no difference between two measured phenomena.\n",
    "\n",
    "### Alternative Hypothesis\n",
    "#### It is one of the propositions given in the hypothesis test. In hypothesis testing, it is the hypothesis whose reliability is desired to be demonstrated.\n",
    "\n",
    "### Significance Level (alpha)\n",
    "#### It is the value that indicates the quality of the hypothesis test. The lower its value, the higher the confidence level of the test.\n",
    "\n",
    "### P-Value\n",
    "#### P-Value is the value that helps determine whether the null hypothesis can be rejected as a result of a statistical test. If the P-value is less than the alpha value, the hypothesis based on equality between groups is rejected.\n",
    "\n",
    "### T-Test \n",
    "#### T-Test is a test that helps us understand whether there are significant differences between a numerical characteristic of two different groups."
   ]
  },
  {
   "cell_type": "markdown",
   "id": "7d42d52f",
   "metadata": {},
   "source": [
    "## Hypothesis 1"
   ]
  },
  {
   "cell_type": "markdown",
   "id": "4f894cb8",
   "metadata": {},
   "source": [
    "### Nullhypothesis"
   ]
  },
  {
   "cell_type": "markdown",
   "id": "73c959a5",
   "metadata": {},
   "source": [
    "#### The average CO2 rating value of Corolla model vehicles of Toyota is the same as the average CO2 rating value of all vehicles."
   ]
  },
  {
   "cell_type": "markdown",
   "id": "ed1afc53",
   "metadata": {},
   "source": [
    "### Alternative Hypothesis"
   ]
  },
  {
   "cell_type": "markdown",
   "id": "90a705d5",
   "metadata": {},
   "source": [
    "#### The average CO2 rating value of Corolla model vehicles of Toyota varies significantly from the average CO2 rating value of all vehicles."
   ]
  },
  {
   "cell_type": "markdown",
   "id": "ecd2ffdf",
   "metadata": {},
   "source": [
    "## T-Test"
   ]
  },
  {
   "cell_type": "code",
   "execution_count": 37,
   "id": "1d9647e3",
   "metadata": {},
   "outputs": [],
   "source": [
    "alpha = 0.05 #Significance Level"
   ]
  },
  {
   "cell_type": "code",
   "execution_count": 38,
   "id": "cff184d7",
   "metadata": {},
   "outputs": [],
   "source": [
    "#Creating a dataframe that only contains the datas of Corolla model vehicles of Toyota\n",
    "toyota_corolla_cars = data_frame[(data_frame[\"Make\"] == \"toyota\") & (data_frame[\"Model\"] == \"Corolla\")]"
   ]
  },
  {
   "cell_type": "code",
   "execution_count": 39,
   "id": "5a38bdf1",
   "metadata": {},
   "outputs": [],
   "source": [
    "#Randomly selecting 30 rows from Toyota Corolla dataframe\n",
    "toyota_corolla_cars = toyota_corolla_cars.sample(n=30)"
   ]
  },
  {
   "cell_type": "code",
   "execution_count": 40,
   "id": "75cb2763",
   "metadata": {},
   "outputs": [],
   "source": [
    "#Calculating the mean CO2 rating value of all cars\n",
    "mean_co2 = data_frame.loc[:, \"CO2 Rating\"].mean()"
   ]
  },
  {
   "cell_type": "code",
   "execution_count": 41,
   "id": "59170758",
   "metadata": {},
   "outputs": [],
   "source": [
    "#Calculating the mean CO2 rating value of Toyota Corolla cars\n",
    "mean_co2_toyota_corolla = toyota_corolla_cars.loc[:, \"CO2 Rating\"].mean()"
   ]
  },
  {
   "cell_type": "code",
   "execution_count": 42,
   "id": "69126185",
   "metadata": {},
   "outputs": [],
   "source": [
    "#Number of samples \n",
    "n_toyota = len(toyota_corolla_cars)\n",
    "#Standard Deviation\n",
    "std_co2_toyota_corolla = toyota_corolla_cars.loc[:, \"CO2 Rating\"].std()"
   ]
  },
  {
   "cell_type": "code",
   "execution_count": 43,
   "id": "0df884ff",
   "metadata": {},
   "outputs": [],
   "source": [
    "#Calculating the T-Value\n",
    "t_h1 = (mean_co2_toyota_corolla-mean_co2)/(std_co2_toyota_corolla/(n_toyota**(1/2)))"
   ]
  },
  {
   "cell_type": "code",
   "execution_count": 44,
   "id": "5db0cb9d",
   "metadata": {},
   "outputs": [],
   "source": [
    "#Calculating degrees of freedom and critical value\n",
    "degrees_of_freedom = n_toyota-1\n",
    "critical_value = stats.t.ppf(1-alpha/2, degrees_of_freedom)"
   ]
  },
  {
   "cell_type": "code",
   "execution_count": 45,
   "id": "d97e6a4b",
   "metadata": {},
   "outputs": [
    {
     "name": "stdout",
     "output_type": "stream",
     "text": [
      "The assumption that the average CO2 rating value of Toyota's Corolla modelled cars is equal to the average CO2 rating value of all cars can be rejected below a significance level of 0.05.\n"
     ]
    }
   ],
   "source": [
    "if abs(t_h1)>critical_value:\n",
    "    print(f\"The assumption that the average CO2 rating value of Toyota's Corolla modelled cars is equal to the average CO2 rating value of all cars can be rejected below a significance level of {alpha}.\")\n",
    "else:\n",
    "    print(f\"The assumption that the average CO2 rating value of Toyota's Corolla modelled cars is equal to the average CO2 rating value of all cars can not be rejected below a significance level of {alpha}.\")"
   ]
  },
  {
   "cell_type": "markdown",
   "id": "31fb6955",
   "metadata": {},
   "source": [
    "## Crosscheck With P-Value and Significance Level (alpha)"
   ]
  },
  {
   "cell_type": "code",
   "execution_count": 46,
   "id": "fe1c6c41",
   "metadata": {},
   "outputs": [
    {
     "name": "stdout",
     "output_type": "stream",
     "text": [
      "P-Value is lower than significance value 0.05. We can reject nullhypothesis.\n"
     ]
    }
   ],
   "source": [
    "p_h1 = stats.t.sf(abs(t_h1), degrees_of_freedom)*2 #Multiplying by two because this is a two-tailed test\n",
    "if p_h1 < alpha:\n",
    "    print(f\"P-Value is lower than significance value {alpha}. We can reject nullhypothesis.\")\n",
    "else:\n",
    "    print(f\"P-Value is not lower than significance value {alpha}. We can not reject nullhypothesis.\")"
   ]
  },
  {
   "cell_type": "markdown",
   "id": "b4a7e492",
   "metadata": {},
   "source": [
    "#### We can reject the Nullhypothesis (Significance level alpha = 0.05)"
   ]
  },
  {
   "cell_type": "markdown",
   "id": "7bae27ef",
   "metadata": {},
   "source": [
    "## Hypothesis 2"
   ]
  },
  {
   "cell_type": "markdown",
   "id": "974c1af9",
   "metadata": {},
   "source": [
    "### Nullhypothesis"
   ]
  },
  {
   "cell_type": "markdown",
   "id": "bba93e33",
   "metadata": {},
   "source": [
    "#### Thea average engine power of BMW branded vehicles is equal to the average engine power of all vehicles."
   ]
  },
  {
   "cell_type": "markdown",
   "id": "466a350b",
   "metadata": {},
   "source": [
    "### Alternative Hypothesis"
   ]
  },
  {
   "cell_type": "markdown",
   "id": "0372f0ba",
   "metadata": {},
   "source": [
    "#### The average engine power of BMW branded vehicles varies significantly from the average engine power of all vehicles."
   ]
  },
  {
   "cell_type": "markdown",
   "id": "76d482f1",
   "metadata": {},
   "source": [
    "## T-Test"
   ]
  },
  {
   "cell_type": "code",
   "execution_count": 47,
   "id": "192c5c33",
   "metadata": {},
   "outputs": [],
   "source": [
    "#Creating a dataframe that only contains the datas of BMW branded cars.\n",
    "bmw_cars = data_frame[data_frame[\"Make\"]==\"bmw\"]"
   ]
  },
  {
   "cell_type": "code",
   "execution_count": 48,
   "id": "d5a2ee7b",
   "metadata": {},
   "outputs": [],
   "source": [
    "#Randomly selecting 30 rows from BMW cars dataframe\n",
    "bmw_cars = bmw_cars.sample(n=30)"
   ]
  },
  {
   "cell_type": "code",
   "execution_count": 49,
   "id": "ee9b93d8",
   "metadata": {},
   "outputs": [],
   "source": [
    "#Calculating the mean engine power of all cars\n",
    "mean_power = data_frame.loc[:, \"Engine Power\"].mean()"
   ]
  },
  {
   "cell_type": "code",
   "execution_count": 50,
   "id": "cda564c6",
   "metadata": {},
   "outputs": [],
   "source": [
    "#Calculating the mean engine power of BMW cars\n",
    "mean_power_bmw = bmw_cars.loc[:, \"Engine Power\"].mean()"
   ]
  },
  {
   "cell_type": "code",
   "execution_count": 51,
   "id": "8a87823e",
   "metadata": {},
   "outputs": [],
   "source": [
    "#Number of samples \n",
    "n_bmw = len(bmw_cars)\n",
    "#Standard Deviation\n",
    "std_power_bmw = bmw_cars.loc[:, \"Engine Power\"].std()"
   ]
  },
  {
   "cell_type": "code",
   "execution_count": 52,
   "id": "c89453b9",
   "metadata": {},
   "outputs": [],
   "source": [
    "#Calculating the T-Value\n",
    "t_h2 = (mean_power_bmw-mean_power)/(std_power_bmw/(n_bmw**(1/2)))"
   ]
  },
  {
   "cell_type": "code",
   "execution_count": 53,
   "id": "eafaf5f1",
   "metadata": {},
   "outputs": [],
   "source": [
    "#Calculating degrees of freedom and critical value\n",
    "degrees_of_freedom = n_bmw-1\n",
    "critical_value = stats.t.ppf(1-alpha/2, degrees_of_freedom)"
   ]
  },
  {
   "cell_type": "code",
   "execution_count": 54,
   "id": "cb4e417a",
   "metadata": {},
   "outputs": [
    {
     "name": "stdout",
     "output_type": "stream",
     "text": [
      "The assumption that the average engine power of BMW branded cars is equal to the average engine power of all cars can be rejected below a significance level of 0.05.\n"
     ]
    }
   ],
   "source": [
    "if abs(t_h2)>critical_value:\n",
    "    print(f\"The assumption that the average engine power of BMW branded cars is equal to the average engine power of all cars can be rejected below a significance level of {alpha}.\")\n",
    "else:\n",
    "    print(f\"The assumption that the average engine power of BMW branded cars is equal to the average engine power of all cars can not be rejected below a significance level of {alpha}.\")"
   ]
  },
  {
   "cell_type": "markdown",
   "id": "cba7f4a8",
   "metadata": {},
   "source": [
    "## Crosscheck With P-Value and Significance Level (alpha)"
   ]
  },
  {
   "cell_type": "code",
   "execution_count": 55,
   "id": "e602fc78",
   "metadata": {},
   "outputs": [
    {
     "name": "stdout",
     "output_type": "stream",
     "text": [
      "P-Value is lower than significance value 0.05. We can reject nullhypothesis.\n"
     ]
    }
   ],
   "source": [
    "p_h2 = stats.t.sf(abs(t_h2), degrees_of_freedom)*2 #Multiplying by two because this is a two-tailed test\n",
    "if p_h2 < alpha:\n",
    "    print(f\"P-Value is lower than significance value {alpha}. We can reject nullhypothesis.\")\n",
    "else:\n",
    "    print(f\"P-Value is not lower than significance value {alpha}. We can not reject nullhypothesis.\")"
   ]
  },
  {
   "cell_type": "markdown",
   "id": "b7596467",
   "metadata": {},
   "source": [
    "#### We can reject the Nullhypothesis (Significance level alpha = 0.05)"
   ]
  },
  {
   "cell_type": "markdown",
   "id": "0bc19a25",
   "metadata": {},
   "source": [
    "## Hypothesis 3"
   ]
  },
  {
   "cell_type": "markdown",
   "id": "66116f1e",
   "metadata": {},
   "source": [
    "### Nullhypothesis"
   ]
  },
  {
   "cell_type": "markdown",
   "id": "d390a03f",
   "metadata": {},
   "source": [
    "#### The average top speed of Mercedes-Benz branded vehicles is equal to the average top speed of all vehicles."
   ]
  },
  {
   "cell_type": "markdown",
   "id": "f88b99af",
   "metadata": {},
   "source": [
    "### Alternative Hypothesis"
   ]
  },
  {
   "cell_type": "markdown",
   "id": "6f0986a1",
   "metadata": {},
   "source": [
    "#### The average top speed of Mercedes-Benz branded vehicles varies significantly from the average top speed of all vehicles."
   ]
  },
  {
   "cell_type": "code",
   "execution_count": 56,
   "id": "716849ca",
   "metadata": {},
   "outputs": [],
   "source": [
    "#Creating a dataframe that only contains the datas of Mercedes-Benz branded cars.\n",
    "mercedes_cars = data_frame[data_frame[\"Make\"]==\"mercedes-benz\"]"
   ]
  },
  {
   "cell_type": "code",
   "execution_count": 57,
   "id": "b54faafd",
   "metadata": {},
   "outputs": [],
   "source": [
    "#Randomly selecting 30 rows from Mercedes-Benz cars dataframe\n",
    "mercedes_cars = mercedes_cars.sample(n=30)"
   ]
  },
  {
   "cell_type": "code",
   "execution_count": 58,
   "id": "41e87930",
   "metadata": {},
   "outputs": [],
   "source": [
    "#Calculating the mean top speed value of all cars\n",
    "mean_speed = data_frame.loc[:, \"Top Speed\"].mean()"
   ]
  },
  {
   "cell_type": "code",
   "execution_count": 59,
   "id": "56377100",
   "metadata": {},
   "outputs": [],
   "source": [
    "#Calculating the mean engine power of Mercedes-Benz cars\n",
    "mean_speed_mercedes = mercedes_cars.loc[:, \"Top Speed\"].mean()"
   ]
  },
  {
   "cell_type": "code",
   "execution_count": 60,
   "id": "c5a7f7f3",
   "metadata": {},
   "outputs": [],
   "source": [
    "#Number of samples \n",
    "n_mercedes = len(mercedes_cars)\n",
    "#Standard Deviation\n",
    "std_speed_mercedes = mercedes_cars.loc[:, \"Top Speed\"].std()"
   ]
  },
  {
   "cell_type": "code",
   "execution_count": 61,
   "id": "298aa64d",
   "metadata": {},
   "outputs": [],
   "source": [
    "#Calculating the T-Value\n",
    "t_h3 = (mean_speed_mercedes-mean_speed)/(std_speed_mercedes/(n_mercedes**(1/2)))"
   ]
  },
  {
   "cell_type": "code",
   "execution_count": 62,
   "id": "694ff60e",
   "metadata": {},
   "outputs": [],
   "source": [
    "#Calculating degrees of freedom and critical value\n",
    "degrees_of_freedom = n_mercedes-1\n",
    "critical_value = stats.t.ppf(1-alpha/2, degrees_of_freedom)"
   ]
  },
  {
   "cell_type": "code",
   "execution_count": 63,
   "id": "dadf3ae7",
   "metadata": {},
   "outputs": [
    {
     "name": "stdout",
     "output_type": "stream",
     "text": [
      "The assumption that the average top speed level of Mercedes-Benz branded cars is equal to the average top speed level of all cars can be rejected below a significance level of 0.05.\n"
     ]
    }
   ],
   "source": [
    "if abs(t_h3)>critical_value:\n",
    "    print(f\"The assumption that the average top speed level of Mercedes-Benz branded cars is equal to the average top speed level of all cars can be rejected below a significance level of {alpha}.\")\n",
    "else:\n",
    "    print(f\"The assumption that the average top speed level of Mercedes-Benz branded cars is equal to the average top speed level of all cars can not be rejected below a significance level of {alpha}.\")"
   ]
  },
  {
   "cell_type": "markdown",
   "id": "97d1f507",
   "metadata": {},
   "source": [
    "## Crosscheck With P-Value and Significance Level (alpha)"
   ]
  },
  {
   "cell_type": "code",
   "execution_count": 64,
   "id": "cea6948f",
   "metadata": {},
   "outputs": [
    {
     "name": "stdout",
     "output_type": "stream",
     "text": [
      "P-Value is lower than significance value 0.05. We can reject nullhypothesis.\n"
     ]
    }
   ],
   "source": [
    "p_h3 = stats.t.sf(abs(t_h3), degrees_of_freedom)*2 #Multiplying by two because this is a two-tailed test\n",
    "if p_h3 < alpha:\n",
    "    print(f\"P-Value is lower than significance value {alpha}. We can reject nullhypothesis.\")\n",
    "else:\n",
    "    print(f\"P-Value is not lower than significance value {alpha}. We can not reject nullhypothesis.\")"
   ]
  },
  {
   "cell_type": "markdown",
   "id": "2df721f3",
   "metadata": {},
   "source": [
    "#### We can reject the Nullhypothesis (Significance level alpha = 0.05)"
   ]
  }
 ],
 "metadata": {
  "kernelspec": {
   "display_name": "Python 3 (ipykernel)",
   "language": "python",
   "name": "python3"
  },
  "language_info": {
   "codemirror_mode": {
    "name": "ipython",
    "version": 3
   },
   "file_extension": ".py",
   "mimetype": "text/x-python",
   "name": "python",
   "nbconvert_exporter": "python",
   "pygments_lexer": "ipython3",
   "version": "3.9.13"
  }
 },
 "nbformat": 4,
 "nbformat_minor": 5
}
