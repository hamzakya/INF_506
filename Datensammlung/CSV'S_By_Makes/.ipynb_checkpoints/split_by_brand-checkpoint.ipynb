{
 "cells": [
  {
   "cell_type": "code",
   "execution_count": 1,
   "id": "12705356",
   "metadata": {},
   "outputs": [],
   "source": [
    "import pandas as pd"
   ]
  },
  {
   "cell_type": "code",
   "execution_count": 4,
   "id": "37d4f73a",
   "metadata": {},
   "outputs": [],
   "source": [
    "df = pd.read_csv('../Car_Listing_Last_Version.csv')"
   ]
  },
  {
   "cell_type": "code",
   "execution_count": 5,
   "id": "c00d88f4",
   "metadata": {},
   "outputs": [],
   "source": [
    "unique_makes = df['Make'].unique()"
   ]
  },
  {
   "cell_type": "code",
   "execution_count": 6,
   "id": "bebe748b",
   "metadata": {},
   "outputs": [],
   "source": [
    "make_dataframes = {make: df[df['Make'] == make] for make in unique_makes}"
   ]
  },
  {
   "cell_type": "code",
   "execution_count": 7,
   "id": "e95d9edf",
   "metadata": {},
   "outputs": [],
   "source": [
    "for make, make_df in make_dataframes.items():\n",
    "    make_df.to_csv(f'{make}_data.csv', index=False)"
   ]
  },
  {
   "cell_type": "code",
   "execution_count": null,
   "id": "8eab5bc2",
   "metadata": {},
   "outputs": [],
   "source": []
  }
 ],
 "metadata": {
  "kernelspec": {
   "display_name": "Python 3 (ipykernel)",
   "language": "python",
   "name": "python3"
  },
  "language_info": {
   "codemirror_mode": {
    "name": "ipython",
    "version": 3
   },
   "file_extension": ".py",
   "mimetype": "text/x-python",
   "name": "python",
   "nbconvert_exporter": "python",
   "pygments_lexer": "ipython3",
   "version": "3.11.5"
  }
 },
 "nbformat": 4,
 "nbformat_minor": 5
}
