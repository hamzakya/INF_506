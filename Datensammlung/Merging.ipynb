{
 "cells": [
  {
   "cell_type": "code",
   "execution_count": 1,
   "id": "4f90faaa",
   "metadata": {},
   "outputs": [],
   "source": [
    "import pandas as pd\n",
    "\n",
    "# List the names of the files in a list\n",
    "file_names = ['car_listings_1.csv', 'car_listings_2.csv', 'car_listings_3.csv', 'car_listings_4.csv', 'car_listings_5.csv', 'car_listings_6.csv']\n",
    "\n",
    "# Create an empty DataFrame\n",
    "merged_df = pd.DataFrame()\n",
    "\n",
    "# Read and merge files one by one\n",
    "for file in file_names:\n",
    "    df = pd.read_csv(file, thousands=',')\n",
    "    merged_df = pd.concat([merged_df, df], ignore_index=True)\n",
    "\n",
    "# Write the result to a new CSV file\n",
    "merged_df.to_csv('Car_Listing_Last_Version.csv', index=False)\n"
   ]
  },
  {
   "cell_type": "code",
   "execution_count": null,
   "id": "4b1e09af",
   "metadata": {},
   "outputs": [],
   "source": []
  }
 ],
 "metadata": {
  "kernelspec": {
   "display_name": "Python 3 (ipykernel)",
   "language": "python",
   "name": "python3"
  },
  "language_info": {
   "codemirror_mode": {
    "name": "ipython",
    "version": 3
   },
   "file_extension": ".py",
   "mimetype": "text/x-python",
   "name": "python",
   "nbconvert_exporter": "python",
   "pygments_lexer": "ipython3",
   "version": "3.11.5"
  }
 },
 "nbformat": 4,
 "nbformat_minor": 5
}
